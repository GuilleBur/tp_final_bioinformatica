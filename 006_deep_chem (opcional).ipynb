{
 "cells": [
  {
   "cell_type": "code",
   "execution_count": 3,
   "source": [
    "import pandas as pd"
   ],
   "outputs": [],
   "metadata": {}
  },
  {
   "cell_type": "code",
   "execution_count": 1,
   "source": [
    "import deepchem as dc\n"
   ],
   "outputs": [],
   "metadata": {}
  },
  {
   "cell_type": "markdown",
   "source": [
    "# Cargo dataset"
   ],
   "metadata": {}
  },
  {
   "cell_type": "code",
   "execution_count": 4,
   "source": [
    "df = pd.read_csv('data/acetylcholinesterase_02_bioactivity_data_preprocessed.csv')"
   ],
   "outputs": [],
   "metadata": {}
  },
  {
   "cell_type": "code",
   "execution_count": 5,
   "source": [
    "df"
   ],
   "outputs": [
    {
     "output_type": "execute_result",
     "data": {
      "text/plain": [
       "     molecule_chembl_id                                   canonical_smiles  \\\n",
       "0          CHEMBL133897              CCOc1nn(-c2cccc(OCc3ccccc3)c2)c(=O)o1   \n",
       "1          CHEMBL336398         O=C(N1CCCCC1)n1nc(-c2ccc(Cl)cc2)nc1SCC1CC1   \n",
       "2          CHEMBL131588  CN(C(=O)n1nc(-c2ccc(Cl)cc2)nc1SCC(F)(F)F)c1ccccc1   \n",
       "3          CHEMBL130628      O=C(N1CCCCC1)n1nc(-c2ccc(Cl)cc2)nc1SCC(F)(F)F   \n",
       "4          CHEMBL130478          CSc1nc(-c2ccc(OC(F)(F)F)cc2)nn1C(=O)N(C)C   \n",
       "...                 ...                                                ...   \n",
       "5098      CHEMBL4645476             CN(C)C(=O)Oc1ccc(C(O)CNC2CCCCC2)cc1.Cl   \n",
       "5099      CHEMBL4645659   COc1ccc(CCC(=O)Nc2nc(-c3cc4ccccc4oc3=O)cs2)cc1OC   \n",
       "5100       CHEMBL513063              COc1ccc(-c2csc(NC(=O)CCN3CCCC3)n2)cc1   \n",
       "5101      CHEMBL4640608  COc1cc(C2C3=C(CCCC3=O)NC3=C2C(=O)CCC3)ccc1OCc1...   \n",
       "5102      CHEMBL4173961  O=C1CCCC2=C1C(c1ccc(OCc3cccc(F)c3)c(Br)c1)C1=C...   \n",
       "\n",
       "      standard_value  standard_value_norm     pIC50  \n",
       "0              750.0                750.0  6.124939  \n",
       "1              100.0                100.0  7.000000  \n",
       "2            50000.0              50000.0  4.301030  \n",
       "3              300.0                300.0  6.522879  \n",
       "4              800.0                800.0  6.096910  \n",
       "...              ...                  ...       ...  \n",
       "5098        266000.0             266000.0  3.575118  \n",
       "5099           740.0                740.0  6.130768  \n",
       "5100           510.0                510.0  6.292430  \n",
       "5101        125000.0             125000.0  3.903090  \n",
       "5102        100000.0             100000.0  4.000000  \n",
       "\n",
       "[5103 rows x 5 columns]"
      ],
      "text/html": [
       "<div>\n",
       "<style scoped>\n",
       "    .dataframe tbody tr th:only-of-type {\n",
       "        vertical-align: middle;\n",
       "    }\n",
       "\n",
       "    .dataframe tbody tr th {\n",
       "        vertical-align: top;\n",
       "    }\n",
       "\n",
       "    .dataframe thead th {\n",
       "        text-align: right;\n",
       "    }\n",
       "</style>\n",
       "<table border=\"1\" class=\"dataframe\">\n",
       "  <thead>\n",
       "    <tr style=\"text-align: right;\">\n",
       "      <th></th>\n",
       "      <th>molecule_chembl_id</th>\n",
       "      <th>canonical_smiles</th>\n",
       "      <th>standard_value</th>\n",
       "      <th>standard_value_norm</th>\n",
       "      <th>pIC50</th>\n",
       "    </tr>\n",
       "  </thead>\n",
       "  <tbody>\n",
       "    <tr>\n",
       "      <th>0</th>\n",
       "      <td>CHEMBL133897</td>\n",
       "      <td>CCOc1nn(-c2cccc(OCc3ccccc3)c2)c(=O)o1</td>\n",
       "      <td>750.0</td>\n",
       "      <td>750.0</td>\n",
       "      <td>6.124939</td>\n",
       "    </tr>\n",
       "    <tr>\n",
       "      <th>1</th>\n",
       "      <td>CHEMBL336398</td>\n",
       "      <td>O=C(N1CCCCC1)n1nc(-c2ccc(Cl)cc2)nc1SCC1CC1</td>\n",
       "      <td>100.0</td>\n",
       "      <td>100.0</td>\n",
       "      <td>7.000000</td>\n",
       "    </tr>\n",
       "    <tr>\n",
       "      <th>2</th>\n",
       "      <td>CHEMBL131588</td>\n",
       "      <td>CN(C(=O)n1nc(-c2ccc(Cl)cc2)nc1SCC(F)(F)F)c1ccccc1</td>\n",
       "      <td>50000.0</td>\n",
       "      <td>50000.0</td>\n",
       "      <td>4.301030</td>\n",
       "    </tr>\n",
       "    <tr>\n",
       "      <th>3</th>\n",
       "      <td>CHEMBL130628</td>\n",
       "      <td>O=C(N1CCCCC1)n1nc(-c2ccc(Cl)cc2)nc1SCC(F)(F)F</td>\n",
       "      <td>300.0</td>\n",
       "      <td>300.0</td>\n",
       "      <td>6.522879</td>\n",
       "    </tr>\n",
       "    <tr>\n",
       "      <th>4</th>\n",
       "      <td>CHEMBL130478</td>\n",
       "      <td>CSc1nc(-c2ccc(OC(F)(F)F)cc2)nn1C(=O)N(C)C</td>\n",
       "      <td>800.0</td>\n",
       "      <td>800.0</td>\n",
       "      <td>6.096910</td>\n",
       "    </tr>\n",
       "    <tr>\n",
       "      <th>...</th>\n",
       "      <td>...</td>\n",
       "      <td>...</td>\n",
       "      <td>...</td>\n",
       "      <td>...</td>\n",
       "      <td>...</td>\n",
       "    </tr>\n",
       "    <tr>\n",
       "      <th>5098</th>\n",
       "      <td>CHEMBL4645476</td>\n",
       "      <td>CN(C)C(=O)Oc1ccc(C(O)CNC2CCCCC2)cc1.Cl</td>\n",
       "      <td>266000.0</td>\n",
       "      <td>266000.0</td>\n",
       "      <td>3.575118</td>\n",
       "    </tr>\n",
       "    <tr>\n",
       "      <th>5099</th>\n",
       "      <td>CHEMBL4645659</td>\n",
       "      <td>COc1ccc(CCC(=O)Nc2nc(-c3cc4ccccc4oc3=O)cs2)cc1OC</td>\n",
       "      <td>740.0</td>\n",
       "      <td>740.0</td>\n",
       "      <td>6.130768</td>\n",
       "    </tr>\n",
       "    <tr>\n",
       "      <th>5100</th>\n",
       "      <td>CHEMBL513063</td>\n",
       "      <td>COc1ccc(-c2csc(NC(=O)CCN3CCCC3)n2)cc1</td>\n",
       "      <td>510.0</td>\n",
       "      <td>510.0</td>\n",
       "      <td>6.292430</td>\n",
       "    </tr>\n",
       "    <tr>\n",
       "      <th>5101</th>\n",
       "      <td>CHEMBL4640608</td>\n",
       "      <td>COc1cc(C2C3=C(CCCC3=O)NC3=C2C(=O)CCC3)ccc1OCc1...</td>\n",
       "      <td>125000.0</td>\n",
       "      <td>125000.0</td>\n",
       "      <td>3.903090</td>\n",
       "    </tr>\n",
       "    <tr>\n",
       "      <th>5102</th>\n",
       "      <td>CHEMBL4173961</td>\n",
       "      <td>O=C1CCCC2=C1C(c1ccc(OCc3cccc(F)c3)c(Br)c1)C1=C...</td>\n",
       "      <td>100000.0</td>\n",
       "      <td>100000.0</td>\n",
       "      <td>4.000000</td>\n",
       "    </tr>\n",
       "  </tbody>\n",
       "</table>\n",
       "<p>5103 rows × 5 columns</p>\n",
       "</div>"
      ]
     },
     "metadata": {},
     "execution_count": 5
    }
   ],
   "metadata": {}
  },
  {
   "cell_type": "markdown",
   "source": [
    "# Pongo el dataset en el formato que deepchem necesita\n",
    "Quizas aca se podía bajar directo en el formato"
   ],
   "metadata": {}
  },
  {
   "cell_type": "code",
   "execution_count": 10,
   "source": [
    "dataset = dc.data.NumpyDataset(X=df['canonical_smiles'].values, y=df['pIC50'].values, ids=df['canonical_smiles'].values)\n"
   ],
   "outputs": [
    {
     "output_type": "execute_result",
     "data": {
      "text/plain": [
       "<NumpyDataset X.shape: (5103,), y.shape: (5103,), w.shape: (5103,), task_names: [0]>"
      ]
     },
     "metadata": {},
     "execution_count": 10
    }
   ],
   "metadata": {}
  },
  {
   "cell_type": "markdown",
   "source": [
    "# Divido en train y test\n",
    "Faltaría validación estrictametne"
   ],
   "metadata": {}
  },
  {
   "cell_type": "code",
   "execution_count": 11,
   "source": [
    "splitter = dc.splits.RandomSplitter()"
   ],
   "outputs": [],
   "metadata": {}
  },
  {
   "cell_type": "code",
   "execution_count": 12,
   "source": [
    "train, test = splitter.train_test_split(dataset)"
   ],
   "outputs": [],
   "metadata": {}
  },
  {
   "cell_type": "markdown",
   "source": [
    "# Genero el diccionario de smiles que necesita el modelo para contruir el embedding"
   ],
   "metadata": {}
  },
  {
   "cell_type": "code",
   "execution_count": 13,
   "source": [
    "smiles_dict, lenght = dc.models.TextCNNModel.build_char_dict(dataset)"
   ],
   "outputs": [],
   "metadata": {}
  },
  {
   "cell_type": "code",
   "execution_count": 14,
   "source": [
    "smiles_dict"
   ],
   "outputs": [
    {
     "output_type": "execute_result",
     "data": {
      "text/plain": [
       "{'#': 1,\n",
       " '(': 2,\n",
       " ')': 3,\n",
       " '+': 4,\n",
       " '-': 5,\n",
       " '/': 6,\n",
       " '1': 7,\n",
       " '2': 8,\n",
       " '3': 9,\n",
       " '4': 10,\n",
       " '5': 11,\n",
       " '6': 12,\n",
       " '7': 13,\n",
       " '8': 14,\n",
       " '=': 15,\n",
       " 'C': 16,\n",
       " 'F': 17,\n",
       " 'H': 18,\n",
       " 'I': 19,\n",
       " 'N': 20,\n",
       " 'O': 21,\n",
       " 'P': 22,\n",
       " 'S': 23,\n",
       " '[': 24,\n",
       " '\\\\': 25,\n",
       " ']': 26,\n",
       " '_': 27,\n",
       " 'c': 28,\n",
       " 'Cl': 29,\n",
       " 'Br': 30,\n",
       " 'n': 31,\n",
       " 'o': 32,\n",
       " 's': 33,\n",
       " '@': 34,\n",
       " '.': 35,\n",
       " 'a': 36,\n",
       " 'B': 37,\n",
       " 'e': 38,\n",
       " 'i': 39}"
      ]
     },
     "metadata": {},
     "execution_count": 14
    }
   ],
   "metadata": {}
  },
  {
   "cell_type": "markdown",
   "source": [
    "# Instancio el modelo"
   ],
   "metadata": {}
  },
  {
   "cell_type": "code",
   "execution_count": 15,
   "source": [
    "model = dc.models.TextCNNModel(\n",
    "    1, smiles_dict, lenght, mode='regression', n_embedding=128, kernel_sizes=[3, 4, 5], num_filters=[128, 128, 128], dropout=0., \n",
    "    log_frequency=5, batch_size=128, optimizer=dc.models.optimizers.Adam()\n",
    ")"
   ],
   "outputs": [],
   "metadata": {}
  },
  {
   "cell_type": "code",
   "execution_count": 22,
   "source": [
    "print(model.model.summary())"
   ],
   "outputs": [
    {
     "output_type": "stream",
     "name": "stdout",
     "text": [
      "Model: \"model\"\n",
      "__________________________________________________________________________________________________\n",
      "Layer (type)                    Output Shape         Param #     Connected to                     \n",
      "==================================================================================================\n",
      "input_1 (InputLayer)            [(None, 248)]        0                                            \n",
      "__________________________________________________________________________________________________\n",
      "dtnn_embedding (DTNNEmbedding)  (None, 248, 128)     5120        input_1[0][0]                    \n",
      "__________________________________________________________________________________________________\n",
      "conv1d (Conv1D)                 (None, 246, 128)     49280       dtnn_embedding[0][0]             \n",
      "__________________________________________________________________________________________________\n",
      "conv1d_1 (Conv1D)               (None, 245, 128)     65664       dtnn_embedding[0][0]             \n",
      "__________________________________________________________________________________________________\n",
      "conv1d_2 (Conv1D)               (None, 244, 128)     82048       dtnn_embedding[0][0]             \n",
      "__________________________________________________________________________________________________\n",
      "lambda (Lambda)                 (None, 128)          0           conv1d[0][0]                     \n",
      "__________________________________________________________________________________________________\n",
      "lambda_1 (Lambda)               (None, 128)          0           conv1d_1[0][0]                   \n",
      "__________________________________________________________________________________________________\n",
      "lambda_2 (Lambda)               (None, 128)          0           conv1d_2[0][0]                   \n",
      "__________________________________________________________________________________________________\n",
      "concatenate (Concatenate)       (None, 384)          0           lambda[0][0]                     \n",
      "                                                                 lambda_1[0][0]                   \n",
      "                                                                 lambda_2[0][0]                   \n",
      "__________________________________________________________________________________________________\n",
      "dropout (Dropout)               (None, 384)          0           concatenate[0][0]                \n",
      "__________________________________________________________________________________________________\n",
      "dense (Dense)                   (None, 200)          77000       dropout[0][0]                    \n",
      "__________________________________________________________________________________________________\n",
      "highway (Highway)               (None, 200)          80400       dense[0][0]                      \n",
      "__________________________________________________________________________________________________\n",
      "dense_1 (Dense)                 (None, 1)            201         highway[0][0]                    \n",
      "__________________________________________________________________________________________________\n",
      "reshape (Reshape)               (None, 1, 1)         0           dense_1[0][0]                    \n",
      "==================================================================================================\n",
      "Total params: 359,713\n",
      "Trainable params: 359,713\n",
      "Non-trainable params: 0\n",
      "__________________________________________________________________________________________________\n",
      "None\n"
     ]
    }
   ],
   "metadata": {}
  },
  {
   "cell_type": "code",
   "execution_count": 17,
   "source": [
    "# Es necesario para ver resultados mientras entrana\n",
    "vc = dc.models.ValidationCallback(test, 20, dc.metrics.r2_score)"
   ],
   "outputs": [],
   "metadata": {}
  },
  {
   "cell_type": "markdown",
   "source": [
    "# Entreno"
   ],
   "metadata": {}
  },
  {
   "cell_type": "code",
   "execution_count": 18,
   "source": [
    "model.fit(train, 100, callbacks=[vc])"
   ],
   "outputs": [
    {
     "output_type": "stream",
     "name": "stdout",
     "text": [
      "Step 20 validation: metric-1=-0.124093\n",
      "Step 40 validation: metric-1=0.203779\n",
      "Step 60 validation: metric-1=0.288001\n",
      "Step 80 validation: metric-1=0.331263\n",
      "Step 100 validation: metric-1=0.390774\n",
      "Step 120 validation: metric-1=0.397463\n",
      "Step 140 validation: metric-1=0.472487\n",
      "Step 160 validation: metric-1=0.489179\n",
      "Step 180 validation: metric-1=0.539853\n",
      "Step 200 validation: metric-1=0.52666\n",
      "Step 220 validation: metric-1=0.548242\n",
      "Step 240 validation: metric-1=0.583718\n",
      "Step 260 validation: metric-1=0.560228\n",
      "Step 280 validation: metric-1=0.612836\n",
      "Step 300 validation: metric-1=0.63431\n",
      "Step 320 validation: metric-1=0.634047\n",
      "Step 340 validation: metric-1=0.643244\n",
      "Step 360 validation: metric-1=0.631759\n",
      "Step 380 validation: metric-1=0.648307\n",
      "Step 400 validation: metric-1=0.658519\n",
      "Step 420 validation: metric-1=0.657914\n",
      "Step 440 validation: metric-1=0.68034\n",
      "Step 460 validation: metric-1=0.667983\n",
      "Step 480 validation: metric-1=0.67884\n",
      "Step 500 validation: metric-1=0.677694\n",
      "Step 520 validation: metric-1=0.687724\n",
      "Step 540 validation: metric-1=0.677082\n",
      "Step 560 validation: metric-1=0.677945\n",
      "Step 580 validation: metric-1=0.704923\n",
      "Step 600 validation: metric-1=0.636722\n",
      "Step 620 validation: metric-1=0.697565\n",
      "Step 640 validation: metric-1=0.70342\n",
      "Step 660 validation: metric-1=0.710102\n",
      "Step 680 validation: metric-1=0.683876\n",
      "Step 700 validation: metric-1=0.7054\n",
      "Step 720 validation: metric-1=0.692958\n",
      "Step 740 validation: metric-1=0.695718\n",
      "Step 760 validation: metric-1=0.706127\n",
      "Step 780 validation: metric-1=0.718794\n",
      "Step 800 validation: metric-1=0.699217\n",
      "Step 820 validation: metric-1=0.719389\n",
      "Step 840 validation: metric-1=0.687509\n",
      "Step 860 validation: metric-1=0.703084\n",
      "Step 880 validation: metric-1=0.718907\n",
      "Step 900 validation: metric-1=0.711413\n",
      "Step 920 validation: metric-1=0.68526\n",
      "Step 940 validation: metric-1=0.719315\n",
      "Step 960 validation: metric-1=0.706294\n",
      "Step 980 validation: metric-1=0.727751\n",
      "Step 1000 validation: metric-1=0.724626\n",
      "Step 1020 validation: metric-1=0.727846\n",
      "Step 1040 validation: metric-1=0.645018\n",
      "Step 1060 validation: metric-1=0.723255\n",
      "Step 1080 validation: metric-1=0.712984\n",
      "Step 1100 validation: metric-1=0.724607\n",
      "Step 1120 validation: metric-1=0.711434\n",
      "Step 1140 validation: metric-1=0.720206\n",
      "Step 1160 validation: metric-1=0.719381\n",
      "Step 1180 validation: metric-1=0.699387\n",
      "Step 1200 validation: metric-1=0.68873\n",
      "Step 1220 validation: metric-1=0.732689\n",
      "Step 1240 validation: metric-1=0.718181\n",
      "Step 1260 validation: metric-1=0.707853\n",
      "Step 1280 validation: metric-1=0.73172\n",
      "Step 1300 validation: metric-1=0.714966\n",
      "Step 1320 validation: metric-1=0.704207\n",
      "Step 1340 validation: metric-1=0.730059\n",
      "Step 1360 validation: metric-1=0.733832\n",
      "Step 1380 validation: metric-1=0.707402\n",
      "Step 1400 validation: metric-1=0.72572\n",
      "Step 1420 validation: metric-1=0.731617\n",
      "Step 1440 validation: metric-1=0.720475\n",
      "Step 1460 validation: metric-1=0.729773\n",
      "Step 1480 validation: metric-1=0.73306\n",
      "Step 1500 validation: metric-1=0.729125\n",
      "Step 1520 validation: metric-1=0.706122\n",
      "Step 1540 validation: metric-1=0.696168\n",
      "Step 1560 validation: metric-1=0.730527\n",
      "Step 1580 validation: metric-1=0.70511\n",
      "Step 1600 validation: metric-1=0.723117\n",
      "Step 1620 validation: metric-1=0.728622\n",
      "Step 1640 validation: metric-1=0.728512\n",
      "Step 1660 validation: metric-1=0.703407\n",
      "Step 1680 validation: metric-1=0.721523\n",
      "Step 1700 validation: metric-1=0.727066\n",
      "Step 1720 validation: metric-1=0.728415\n",
      "Step 1740 validation: metric-1=0.733645\n",
      "Step 1760 validation: metric-1=0.731869\n",
      "Step 1780 validation: metric-1=0.734563\n",
      "Step 1800 validation: metric-1=0.715145\n",
      "Step 1820 validation: metric-1=0.729046\n",
      "Step 1840 validation: metric-1=0.726225\n",
      "Step 1860 validation: metric-1=0.728113\n",
      "Step 1880 validation: metric-1=0.71271\n",
      "Step 1900 validation: metric-1=0.724872\n",
      "Step 1920 validation: metric-1=0.719624\n",
      "Step 1940 validation: metric-1=0.730486\n",
      "Step 1960 validation: metric-1=0.707389\n",
      "Step 1980 validation: metric-1=0.635978\n",
      "Step 2000 validation: metric-1=0.72135\n",
      "Step 2020 validation: metric-1=0.715437\n",
      "Step 2040 validation: metric-1=0.708681\n",
      "Step 2060 validation: metric-1=0.697316\n",
      "Step 2080 validation: metric-1=0.72092\n",
      "Step 2100 validation: metric-1=0.724299\n",
      "Step 2120 validation: metric-1=0.701741\n",
      "Step 2140 validation: metric-1=0.697032\n",
      "Step 2160 validation: metric-1=0.726686\n",
      "Step 2180 validation: metric-1=0.678072\n",
      "Step 2200 validation: metric-1=0.725467\n",
      "Step 2220 validation: metric-1=0.721219\n",
      "Step 2240 validation: metric-1=0.603004\n",
      "Step 2260 validation: metric-1=0.733046\n",
      "Step 2280 validation: metric-1=0.731653\n",
      "Step 2300 validation: metric-1=0.732878\n",
      "Step 2320 validation: metric-1=0.691512\n",
      "Step 2340 validation: metric-1=0.728302\n",
      "Step 2360 validation: metric-1=0.718612\n",
      "Step 2380 validation: metric-1=0.725077\n",
      "Step 2400 validation: metric-1=0.727484\n",
      "Step 2420 validation: metric-1=0.697318\n",
      "Step 2440 validation: metric-1=0.729068\n",
      "Step 2460 validation: metric-1=0.722416\n",
      "Step 2480 validation: metric-1=0.711038\n",
      "Step 2500 validation: metric-1=0.727623\n",
      "Step 2520 validation: metric-1=0.72339\n"
     ]
    },
    {
     "output_type": "error",
     "ename": "KeyboardInterrupt",
     "evalue": "",
     "traceback": [
      "\u001b[0;31m---------------------------------------------------------------------------\u001b[0m",
      "\u001b[0;31mKeyboardInterrupt\u001b[0m                         Traceback (most recent call last)",
      "\u001b[0;32m<ipython-input-18-a2aef6d561b9>\u001b[0m in \u001b[0;36m<module>\u001b[0;34m\u001b[0m\n\u001b[0;32m----> 1\u001b[0;31m \u001b[0mmodel\u001b[0m\u001b[0;34m.\u001b[0m\u001b[0mfit\u001b[0m\u001b[0;34m(\u001b[0m\u001b[0mtrain\u001b[0m\u001b[0;34m,\u001b[0m \u001b[0;36m100\u001b[0m\u001b[0;34m,\u001b[0m \u001b[0mcallbacks\u001b[0m\u001b[0;34m=\u001b[0m\u001b[0;34m[\u001b[0m\u001b[0mvc\u001b[0m\u001b[0;34m]\u001b[0m\u001b[0;34m)\u001b[0m\u001b[0;34m\u001b[0m\u001b[0;34m\u001b[0m\u001b[0m\n\u001b[0m",
      "\u001b[0;32m~/miniconda3/envs/py38/lib/python3.8/site-packages/deepchem/models/keras_model.py\u001b[0m in \u001b[0;36mfit\u001b[0;34m(self, dataset, nb_epoch, max_checkpoints_to_keep, checkpoint_interval, deterministic, restore, variables, loss, callbacks, all_losses)\u001b[0m\n\u001b[1;32m    318\u001b[0m     \u001b[0mThe\u001b[0m \u001b[0maverage\u001b[0m \u001b[0mloss\u001b[0m \u001b[0mover\u001b[0m \u001b[0mthe\u001b[0m \u001b[0mmost\u001b[0m \u001b[0mrecent\u001b[0m \u001b[0mcheckpoint\u001b[0m \u001b[0minterval\u001b[0m\u001b[0;34m\u001b[0m\u001b[0;34m\u001b[0m\u001b[0m\n\u001b[1;32m    319\u001b[0m    \"\"\"\n\u001b[0;32m--> 320\u001b[0;31m     return self.fit_generator(\n\u001b[0m\u001b[1;32m    321\u001b[0m         self.default_generator(\n\u001b[1;32m    322\u001b[0m             \u001b[0mdataset\u001b[0m\u001b[0;34m,\u001b[0m \u001b[0mepochs\u001b[0m\u001b[0;34m=\u001b[0m\u001b[0mnb_epoch\u001b[0m\u001b[0;34m,\u001b[0m\u001b[0;34m\u001b[0m\u001b[0;34m\u001b[0m\u001b[0m\n",
      "\u001b[0;32m~/miniconda3/envs/py38/lib/python3.8/site-packages/deepchem/models/keras_model.py\u001b[0m in \u001b[0;36mfit_generator\u001b[0;34m(self, generator, max_checkpoints_to_keep, checkpoint_interval, restore, variables, loss, callbacks, all_losses)\u001b[0m\n\u001b[1;32m    407\u001b[0m         \u001b[0minputs\u001b[0m \u001b[0;34m=\u001b[0m \u001b[0minputs\u001b[0m\u001b[0;34m[\u001b[0m\u001b[0;36m0\u001b[0m\u001b[0;34m]\u001b[0m\u001b[0;34m\u001b[0m\u001b[0;34m\u001b[0m\u001b[0m\n\u001b[1;32m    408\u001b[0m \u001b[0;34m\u001b[0m\u001b[0m\n\u001b[0;32m--> 409\u001b[0;31m       \u001b[0mbatch_loss\u001b[0m \u001b[0;34m=\u001b[0m \u001b[0mapply_gradient_for_batch\u001b[0m\u001b[0;34m(\u001b[0m\u001b[0minputs\u001b[0m\u001b[0;34m,\u001b[0m \u001b[0mlabels\u001b[0m\u001b[0;34m,\u001b[0m \u001b[0mweights\u001b[0m\u001b[0;34m,\u001b[0m \u001b[0mloss\u001b[0m\u001b[0;34m)\u001b[0m\u001b[0;34m\u001b[0m\u001b[0;34m\u001b[0m\u001b[0m\n\u001b[0m\u001b[1;32m    410\u001b[0m       \u001b[0mcurrent_step\u001b[0m \u001b[0;34m=\u001b[0m \u001b[0mself\u001b[0m\u001b[0;34m.\u001b[0m\u001b[0m_global_step\u001b[0m\u001b[0;34m.\u001b[0m\u001b[0mnumpy\u001b[0m\u001b[0;34m(\u001b[0m\u001b[0;34m)\u001b[0m\u001b[0;34m\u001b[0m\u001b[0;34m\u001b[0m\u001b[0m\n\u001b[1;32m    411\u001b[0m \u001b[0;34m\u001b[0m\u001b[0m\n",
      "\u001b[0;32m~/miniconda3/envs/py38/lib/python3.8/site-packages/tensorflow/python/eager/def_function.py\u001b[0m in \u001b[0;36m__call__\u001b[0;34m(self, *args, **kwds)\u001b[0m\n\u001b[1;32m    826\u001b[0m     \u001b[0mtracing_count\u001b[0m \u001b[0;34m=\u001b[0m \u001b[0mself\u001b[0m\u001b[0;34m.\u001b[0m\u001b[0mexperimental_get_tracing_count\u001b[0m\u001b[0;34m(\u001b[0m\u001b[0;34m)\u001b[0m\u001b[0;34m\u001b[0m\u001b[0;34m\u001b[0m\u001b[0m\n\u001b[1;32m    827\u001b[0m     \u001b[0;32mwith\u001b[0m \u001b[0mtrace\u001b[0m\u001b[0;34m.\u001b[0m\u001b[0mTrace\u001b[0m\u001b[0;34m(\u001b[0m\u001b[0mself\u001b[0m\u001b[0;34m.\u001b[0m\u001b[0m_name\u001b[0m\u001b[0;34m)\u001b[0m \u001b[0;32mas\u001b[0m \u001b[0mtm\u001b[0m\u001b[0;34m:\u001b[0m\u001b[0;34m\u001b[0m\u001b[0;34m\u001b[0m\u001b[0m\n\u001b[0;32m--> 828\u001b[0;31m       \u001b[0mresult\u001b[0m \u001b[0;34m=\u001b[0m \u001b[0mself\u001b[0m\u001b[0;34m.\u001b[0m\u001b[0m_call\u001b[0m\u001b[0;34m(\u001b[0m\u001b[0;34m*\u001b[0m\u001b[0margs\u001b[0m\u001b[0;34m,\u001b[0m \u001b[0;34m**\u001b[0m\u001b[0mkwds\u001b[0m\u001b[0;34m)\u001b[0m\u001b[0;34m\u001b[0m\u001b[0;34m\u001b[0m\u001b[0m\n\u001b[0m\u001b[1;32m    829\u001b[0m       \u001b[0mcompiler\u001b[0m \u001b[0;34m=\u001b[0m \u001b[0;34m\"xla\"\u001b[0m \u001b[0;32mif\u001b[0m \u001b[0mself\u001b[0m\u001b[0;34m.\u001b[0m\u001b[0m_experimental_compile\u001b[0m \u001b[0;32melse\u001b[0m \u001b[0;34m\"nonXla\"\u001b[0m\u001b[0;34m\u001b[0m\u001b[0;34m\u001b[0m\u001b[0m\n\u001b[1;32m    830\u001b[0m       \u001b[0mnew_tracing_count\u001b[0m \u001b[0;34m=\u001b[0m \u001b[0mself\u001b[0m\u001b[0;34m.\u001b[0m\u001b[0mexperimental_get_tracing_count\u001b[0m\u001b[0;34m(\u001b[0m\u001b[0;34m)\u001b[0m\u001b[0;34m\u001b[0m\u001b[0;34m\u001b[0m\u001b[0m\n",
      "\u001b[0;32m~/miniconda3/envs/py38/lib/python3.8/site-packages/tensorflow/python/eager/def_function.py\u001b[0m in \u001b[0;36m_call\u001b[0;34m(self, *args, **kwds)\u001b[0m\n\u001b[1;32m    853\u001b[0m       \u001b[0;31m# In this case we have created variables on the first call, so we run the\u001b[0m\u001b[0;34m\u001b[0m\u001b[0;34m\u001b[0m\u001b[0;34m\u001b[0m\u001b[0m\n\u001b[1;32m    854\u001b[0m       \u001b[0;31m# defunned version which is guaranteed to never create variables.\u001b[0m\u001b[0;34m\u001b[0m\u001b[0;34m\u001b[0m\u001b[0;34m\u001b[0m\u001b[0m\n\u001b[0;32m--> 855\u001b[0;31m       \u001b[0;32mreturn\u001b[0m \u001b[0mself\u001b[0m\u001b[0;34m.\u001b[0m\u001b[0m_stateless_fn\u001b[0m\u001b[0;34m(\u001b[0m\u001b[0;34m*\u001b[0m\u001b[0margs\u001b[0m\u001b[0;34m,\u001b[0m \u001b[0;34m**\u001b[0m\u001b[0mkwds\u001b[0m\u001b[0;34m)\u001b[0m  \u001b[0;31m# pylint: disable=not-callable\u001b[0m\u001b[0;34m\u001b[0m\u001b[0;34m\u001b[0m\u001b[0m\n\u001b[0m\u001b[1;32m    856\u001b[0m     \u001b[0;32melif\u001b[0m \u001b[0mself\u001b[0m\u001b[0;34m.\u001b[0m\u001b[0m_stateful_fn\u001b[0m \u001b[0;32mis\u001b[0m \u001b[0;32mnot\u001b[0m \u001b[0;32mNone\u001b[0m\u001b[0;34m:\u001b[0m\u001b[0;34m\u001b[0m\u001b[0;34m\u001b[0m\u001b[0m\n\u001b[1;32m    857\u001b[0m       \u001b[0;31m# Release the lock early so that multiple threads can perform the call\u001b[0m\u001b[0;34m\u001b[0m\u001b[0;34m\u001b[0m\u001b[0;34m\u001b[0m\u001b[0m\n",
      "\u001b[0;32m~/miniconda3/envs/py38/lib/python3.8/site-packages/tensorflow/python/eager/function.py\u001b[0m in \u001b[0;36m__call__\u001b[0;34m(self, *args, **kwargs)\u001b[0m\n\u001b[1;32m   2940\u001b[0m       (graph_function,\n\u001b[1;32m   2941\u001b[0m        filtered_flat_args) = self._maybe_define_function(args, kwargs)\n\u001b[0;32m-> 2942\u001b[0;31m     return graph_function._call_flat(\n\u001b[0m\u001b[1;32m   2943\u001b[0m         filtered_flat_args, captured_inputs=graph_function.captured_inputs)  # pylint: disable=protected-access\n\u001b[1;32m   2944\u001b[0m \u001b[0;34m\u001b[0m\u001b[0m\n",
      "\u001b[0;32m~/miniconda3/envs/py38/lib/python3.8/site-packages/tensorflow/python/eager/function.py\u001b[0m in \u001b[0;36m_call_flat\u001b[0;34m(self, args, captured_inputs, cancellation_manager)\u001b[0m\n\u001b[1;32m   1916\u001b[0m         and executing_eagerly):\n\u001b[1;32m   1917\u001b[0m       \u001b[0;31m# No tape is watching; skip to running the function.\u001b[0m\u001b[0;34m\u001b[0m\u001b[0;34m\u001b[0m\u001b[0;34m\u001b[0m\u001b[0m\n\u001b[0;32m-> 1918\u001b[0;31m       return self._build_call_outputs(self._inference_function.call(\n\u001b[0m\u001b[1;32m   1919\u001b[0m           ctx, args, cancellation_manager=cancellation_manager))\n\u001b[1;32m   1920\u001b[0m     forward_backward = self._select_forward_and_backward_functions(\n",
      "\u001b[0;32m~/miniconda3/envs/py38/lib/python3.8/site-packages/tensorflow/python/eager/function.py\u001b[0m in \u001b[0;36mcall\u001b[0;34m(self, ctx, args, cancellation_manager)\u001b[0m\n\u001b[1;32m    553\u001b[0m       \u001b[0;32mwith\u001b[0m \u001b[0m_InterpolateFunctionError\u001b[0m\u001b[0;34m(\u001b[0m\u001b[0mself\u001b[0m\u001b[0;34m)\u001b[0m\u001b[0;34m:\u001b[0m\u001b[0;34m\u001b[0m\u001b[0;34m\u001b[0m\u001b[0m\n\u001b[1;32m    554\u001b[0m         \u001b[0;32mif\u001b[0m \u001b[0mcancellation_manager\u001b[0m \u001b[0;32mis\u001b[0m \u001b[0;32mNone\u001b[0m\u001b[0;34m:\u001b[0m\u001b[0;34m\u001b[0m\u001b[0;34m\u001b[0m\u001b[0m\n\u001b[0;32m--> 555\u001b[0;31m           outputs = execute.execute(\n\u001b[0m\u001b[1;32m    556\u001b[0m               \u001b[0mstr\u001b[0m\u001b[0;34m(\u001b[0m\u001b[0mself\u001b[0m\u001b[0;34m.\u001b[0m\u001b[0msignature\u001b[0m\u001b[0;34m.\u001b[0m\u001b[0mname\u001b[0m\u001b[0;34m)\u001b[0m\u001b[0;34m,\u001b[0m\u001b[0;34m\u001b[0m\u001b[0;34m\u001b[0m\u001b[0m\n\u001b[1;32m    557\u001b[0m               \u001b[0mnum_outputs\u001b[0m\u001b[0;34m=\u001b[0m\u001b[0mself\u001b[0m\u001b[0;34m.\u001b[0m\u001b[0m_num_outputs\u001b[0m\u001b[0;34m,\u001b[0m\u001b[0;34m\u001b[0m\u001b[0;34m\u001b[0m\u001b[0m\n",
      "\u001b[0;32m~/miniconda3/envs/py38/lib/python3.8/site-packages/tensorflow/python/eager/execute.py\u001b[0m in \u001b[0;36mquick_execute\u001b[0;34m(op_name, num_outputs, inputs, attrs, ctx, name)\u001b[0m\n\u001b[1;32m     57\u001b[0m   \u001b[0;32mtry\u001b[0m\u001b[0;34m:\u001b[0m\u001b[0;34m\u001b[0m\u001b[0;34m\u001b[0m\u001b[0m\n\u001b[1;32m     58\u001b[0m     \u001b[0mctx\u001b[0m\u001b[0;34m.\u001b[0m\u001b[0mensure_initialized\u001b[0m\u001b[0;34m(\u001b[0m\u001b[0;34m)\u001b[0m\u001b[0;34m\u001b[0m\u001b[0;34m\u001b[0m\u001b[0m\n\u001b[0;32m---> 59\u001b[0;31m     tensors = pywrap_tfe.TFE_Py_Execute(ctx._handle, device_name, op_name,\n\u001b[0m\u001b[1;32m     60\u001b[0m                                         inputs, attrs, num_outputs)\n\u001b[1;32m     61\u001b[0m   \u001b[0;32mexcept\u001b[0m \u001b[0mcore\u001b[0m\u001b[0;34m.\u001b[0m\u001b[0m_NotOkStatusException\u001b[0m \u001b[0;32mas\u001b[0m \u001b[0me\u001b[0m\u001b[0;34m:\u001b[0m\u001b[0;34m\u001b[0m\u001b[0;34m\u001b[0m\u001b[0m\n",
      "\u001b[0;31mKeyboardInterrupt\u001b[0m: "
     ]
    }
   ],
   "metadata": {
    "tags": []
   }
  },
  {
   "cell_type": "markdown",
   "source": [
    "# Evaluó"
   ],
   "metadata": {}
  },
  {
   "cell_type": "code",
   "execution_count": 23,
   "source": [
    "model.evaluate(train, dc.metrics.r2_score)"
   ],
   "outputs": [
    {
     "output_type": "execute_result",
     "data": {
      "text/plain": [
       "{'metric-1': 0.9303633594285693}"
      ]
     },
     "metadata": {},
     "execution_count": 23
    }
   ],
   "metadata": {}
  },
  {
   "cell_type": "code",
   "execution_count": 24,
   "source": [
    "model.evaluate(test, dc.metrics.r2_score)"
   ],
   "outputs": [
    {
     "output_type": "execute_result",
     "data": {
      "text/plain": [
       "{'metric-1': 0.7243694557741669}"
      ]
     },
     "metadata": {},
     "execution_count": 24
    }
   ],
   "metadata": {}
  },
  {
   "cell_type": "code",
   "execution_count": 26,
   "source": [
    "#obtengo los embeddings\n",
    "embeddings = model.model.layers[1].get_weights()[0]\n",
    "embeddings.shape"
   ],
   "outputs": [
    {
     "output_type": "execute_result",
     "data": {
      "text/plain": [
       "(40, 128)"
      ]
     },
     "metadata": {},
     "execution_count": 26
    }
   ],
   "metadata": {}
  },
  {
   "cell_type": "code",
   "execution_count": 28,
   "source": [
    "#Si quiero grabar el embedding \n",
    "import numpy as np\n",
    "cargar_embeddings = False\n",
    "grabar_embeddings = True\n",
    "if grabar_embeddings:\n",
    "  np.save('data/embeddings_textcnn_deep_chem', embeddings)"
   ],
   "outputs": [],
   "metadata": {}
  },
  {
   "cell_type": "code",
   "execution_count": 30,
   "source": [
    "len(smiles_dict)"
   ],
   "outputs": [
    {
     "output_type": "execute_result",
     "data": {
      "text/plain": [
       "39"
      ]
     },
     "metadata": {},
     "execution_count": 30
    }
   ],
   "metadata": {}
  },
  {
   "cell_type": "code",
   "execution_count": 31,
   "source": [
    "smiles_dict"
   ],
   "outputs": [
    {
     "output_type": "execute_result",
     "data": {
      "text/plain": [
       "{'#': 1,\n",
       " '(': 2,\n",
       " ')': 3,\n",
       " '+': 4,\n",
       " '-': 5,\n",
       " '/': 6,\n",
       " '1': 7,\n",
       " '2': 8,\n",
       " '3': 9,\n",
       " '4': 10,\n",
       " '5': 11,\n",
       " '6': 12,\n",
       " '7': 13,\n",
       " '8': 14,\n",
       " '=': 15,\n",
       " 'C': 16,\n",
       " 'F': 17,\n",
       " 'H': 18,\n",
       " 'I': 19,\n",
       " 'N': 20,\n",
       " 'O': 21,\n",
       " 'P': 22,\n",
       " 'S': 23,\n",
       " '[': 24,\n",
       " '\\\\': 25,\n",
       " ']': 26,\n",
       " '_': 27,\n",
       " 'c': 28,\n",
       " 'Cl': 29,\n",
       " 'Br': 30,\n",
       " 'n': 31,\n",
       " 'o': 32,\n",
       " 's': 33,\n",
       " '@': 34,\n",
       " '.': 35,\n",
       " 'a': 36,\n",
       " 'B': 37,\n",
       " 'e': 38,\n",
       " 'i': 39}"
      ]
     },
     "metadata": {},
     "execution_count": 31
    }
   ],
   "metadata": {}
  },
  {
   "cell_type": "code",
   "execution_count": null,
   "source": [],
   "outputs": [],
   "metadata": {}
  }
 ],
 "metadata": {
  "kernelspec": {
   "name": "python3",
   "display_name": "Python 3.8.10 64-bit ('py38': conda)"
  },
  "language_info": {
   "codemirror_mode": {
    "name": "ipython",
    "version": 3
   },
   "file_extension": ".py",
   "mimetype": "text/x-python",
   "name": "python",
   "nbconvert_exporter": "python",
   "pygments_lexer": "ipython3",
   "version": "3.8.10"
  },
  "interpreter": {
   "hash": "836584eac3571b1127780d84aa636de8e051c0940841e1e2c563ac285d4cb847"
  }
 },
 "nbformat": 4,
 "nbformat_minor": 5
}